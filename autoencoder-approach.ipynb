{
 "cells": [
  {
   "cell_type": "code",
   "execution_count": 64,
   "metadata": {
    "collapsed": false,
    "deletable": true,
    "editable": true,
    "jupyter": {
     "outputs_hidden": false
    }
   },
   "outputs": [],
   "source": [
    "import pandas as pd\n",
    "import numpy as np\n",
    "import pickle\n",
    "import matplotlib.pyplot as plt\n",
    "from scipy import stats\n",
    "import tensorflow as tf\n",
    "from pylab import rcParams\n",
    "from sklearn.model_selection import train_test_split\n",
    "from keras.models import Model, load_model\n",
    "from keras.layers import Input, Dense\n",
    "from keras.callbacks import ModelCheckpoint, TensorBoard\n",
    "from keras import regularizers\n",
    "from sklearn import preprocessing\n",
    "from keras import models\n",
    "\n",
    "%matplotlib inline\n",
    "rcParams['figure.figsize'] = 14, 8"
   ]
  },
  {
   "cell_type": "code",
   "execution_count": 65,
   "metadata": {
    "deletable": true,
    "editable": true
   },
   "outputs": [],
   "source": [
    "transactions = pd.read_csv('/root/veridion/veridion/AML_hack/HI-Small_Trans.csv')"
   ]
  },
  {
   "cell_type": "code",
   "execution_count": 66,
   "metadata": {
    "collapsed": false,
    "deletable": true,
    "editable": true,
    "jupyter": {
     "outputs_hidden": false
    }
   },
   "outputs": [
    {
     "name": "stdout",
     "output_type": "stream",
     "text": [
      "11\n"
     ]
    },
    {
     "data": {
      "text/plain": [
       "Index(['Timestamp', 'From Bank', 'Account', 'To Bank', 'Account.1',\n",
       "       'Amount Received', 'Receiving Currency', 'Amount Paid',\n",
       "       'Payment Currency', 'Payment Format', 'Is Laundering'],\n",
       "      dtype='object')"
      ]
     },
     "execution_count": 66,
     "metadata": {},
     "output_type": "execute_result"
    }
   ],
   "source": [
    "print(len(transactions.columns))\n",
    "transactions.columns"
   ]
  },
  {
   "cell_type": "code",
   "execution_count": 67,
   "metadata": {
    "deletable": true,
    "editable": true
   },
   "outputs": [],
   "source": [
    "labels = transactions['Is Laundering']\n",
    "del transactions['Is Laundering']"
   ]
  },
  {
   "cell_type": "markdown",
   "metadata": {
    "deletable": true,
    "editable": true,
    "jp-MarkdownHeadingCollapsed": true
   },
   "source": [
    "# Autoencoder"
   ]
  },
  {
   "cell_type": "code",
   "execution_count": 71,
   "metadata": {
    "deletable": true,
    "editable": true
   },
   "outputs": [],
   "source": [
    "input_layer = Input(shape=(10, ))\n",
    "encoder = Dense(10, activation=\"tanh\")(input_layer)\n",
    "encoder = Dense(8, activation=\"tanh\")(encoder)\n",
    "encoder = Dense(6, activation=\"tanh\")(encoder)\n",
    "encoder = Dense(5, activation=\"relu\")(encoder)\n",
    "\n",
    "decoder = Dense(6, activation='tanh')(encoder)\n",
    "decoder = Dense(8, activation='tanh')(decoder)\n",
    "decoder = Dense(10, activation='relu')(encoder)\n",
    "\n",
    "autoencoder = Model(inputs=input_layer, outputs=decoder)"
   ]
  },
  {
   "cell_type": "code",
   "execution_count": 72,
   "metadata": {
    "deletable": true,
    "editable": true
   },
   "outputs": [
    {
     "name": "stderr",
     "output_type": "stream",
     "text": [
      "/root/.conda/envs/veridion/lib/python3.10/site-packages/keras/src/optimizers/base_optimizer.py:34: UserWarning: Argument `decay` is no longer supported and will be ignored.\n",
      "  warnings.warn(\n"
     ]
    }
   ],
   "source": [
    "from keras import optimizers\n",
    "adam = optimizers.Adam(learning_rate=1e-3, beta_1=0.9, beta_2=0.999, epsilon=1e-08, decay=0.1)\n",
    "\n",
    "autoencoder.compile(optimizer=adam, loss='mean_squared_error')"
   ]
  },
  {
   "cell_type": "code",
   "execution_count": 73,
   "metadata": {},
   "outputs": [],
   "source": [
    "def df_label_encoder(df, columns):\n",
    "        le = preprocessing.LabelEncoder()\n",
    "        for i in columns:\n",
    "            df[i] = le.fit_transform(df[i].astype(str))\n",
    "        return df\n",
    "\n",
    "df = df_label_encoder(transactions,['Payment Format', 'Payment Currency', 'Receiving Currency', 'Account', 'Account.1'])\n",
    "df['Timestamp'] = pd.to_datetime(df['Timestamp'], dayfirst=True, format='mixed')\n",
    "df['Timestamp'] = df['Timestamp'].apply(lambda x: x.value)\n",
    "df['Timestamp'] = (df['Timestamp']-df['Timestamp'].min())/(df['Timestamp'].max()-df['Timestamp'].min())"
   ]
  },
  {
   "cell_type": "code",
   "execution_count": 74,
   "metadata": {
    "deletable": true,
    "editable": true
   },
   "outputs": [],
   "source": [
    "X_train = transactions.values"
   ]
  },
  {
   "cell_type": "code",
   "execution_count": 75,
   "metadata": {
    "deletable": true,
    "editable": true
   },
   "outputs": [],
   "source": [
    "# run on gpu0\n",
    "import os\n",
    "os.environ['CUDA_VISIBLE_DEVICES'] = '0'"
   ]
  },
  {
   "cell_type": "code",
   "execution_count": null,
   "metadata": {
    "collapsed": false,
    "deletable": true,
    "editable": true,
    "jupyter": {
     "outputs_hidden": false
    }
   },
   "outputs": [
    {
     "name": "stdout",
     "output_type": "stream",
     "text": [
      "Epoch 1/300\n",
      "\u001b[1m63480/63480\u001b[0m \u001b[32m━━━━━━━━━━━━━━━━━━━━\u001b[0m\u001b[37m\u001b[0m \u001b[1m213s\u001b[0m 3ms/step - loss: 119590091592040448.0000 - val_loss: 131092202989289472.0000\n",
      "Epoch 2/300\n",
      "\u001b[1m63480/63480\u001b[0m \u001b[32m━━━━━━━━━━━━━━━━━━━━\u001b[0m\u001b[37m\u001b[0m \u001b[1m198s\u001b[0m 3ms/step - loss: 169013147850506240.0000 - val_loss: 131092194399354880.0000\n",
      "Epoch 3/300\n",
      "\u001b[1m63480/63480\u001b[0m \u001b[32m━━━━━━━━━━━━━━━━━━━━\u001b[0m\u001b[37m\u001b[0m \u001b[1m220s\u001b[0m 3ms/step - loss: 114359843627728896.0000 - val_loss: 131092177219485696.0000\n",
      "Epoch 4/300\n",
      "\u001b[1m63480/63480\u001b[0m \u001b[32m━━━━━━━━━━━━━━━━━━━━\u001b[0m\u001b[37m\u001b[0m \u001b[1m194s\u001b[0m 3ms/step - loss: 153665992751316992.0000 - val_loss: 131092177219485696.0000\n",
      "Epoch 5/300\n",
      "\u001b[1m63480/63480\u001b[0m \u001b[32m━━━━━━━━━━━━━━━━━━━━\u001b[0m\u001b[37m\u001b[0m \u001b[1m200s\u001b[0m 3ms/step - loss: 149478004500725760.0000 - val_loss: 131092134269812736.0000\n",
      "Epoch 6/300\n",
      "\u001b[1m63480/63480\u001b[0m \u001b[32m━━━━━━━━━━━━━━━━━━━━\u001b[0m\u001b[37m\u001b[0m \u001b[1m212s\u001b[0m 3ms/step - loss: 95327512099291136.0000 - val_loss: 131092091320139776.0000\n",
      "Epoch 7/300\n",
      "\u001b[1m63480/63480\u001b[0m \u001b[32m━━━━━━━━━━━━━━━━━━━━\u001b[0m\u001b[37m\u001b[0m \u001b[1m201s\u001b[0m 3ms/step - loss: 132553453942603776.0000 - val_loss: 131092074140270592.0000\n",
      "Epoch 8/300\n",
      "\u001b[1m53764/63480\u001b[0m \u001b[32m━━━━━━━━━━━━━━━━\u001b[0m\u001b[37m━━━━\u001b[0m \u001b[1m28s\u001b[0m 3ms/step - loss: 212451656808267776.0000"
     ]
    },
    {
     "name": "stderr",
     "output_type": "stream",
     "text": [
      "IOPub message rate exceeded.\n",
      "The Jupyter server will temporarily stop sending output\n",
      "to the client in order to avoid crashing it.\n",
      "To change this limit, set the config variable\n",
      "`--ServerApp.iopub_msg_rate_limit`.\n",
      "\n",
      "Current values:\n",
      "ServerApp.iopub_msg_rate_limit=1000.0 (msgs/sec)\n",
      "ServerApp.rate_limit_window=3.0 (secs)\n",
      "\n"
     ]
    },
    {
     "name": "stdout",
     "output_type": "stream",
     "text": [
      "\u001b[1m63480/63480\u001b[0m \u001b[32m━━━━━━━━━━━━━━━━━━━━\u001b[0m\u001b[37m\u001b[0m \u001b[1m228s\u001b[0m 4ms/step - loss: 125567689635659776.0000 - val_loss: 131091490024718336.0000\n",
      "Epoch 23/300\n",
      "\u001b[1m22333/63480\u001b[0m \u001b[32m━━━━━━━\u001b[0m\u001b[37m━━━━━━━━━━━━━\u001b[0m \u001b[1m1:46\u001b[0m 3ms/step - loss: 593433913301401600.0000"
     ]
    },
    {
     "name": "stderr",
     "output_type": "stream",
     "text": [
      "IOPub message rate exceeded.\n",
      "The Jupyter server will temporarily stop sending output\n",
      "to the client in order to avoid crashing it.\n",
      "To change this limit, set the config variable\n",
      "`--ServerApp.iopub_msg_rate_limit`.\n",
      "\n",
      "Current values:\n",
      "ServerApp.iopub_msg_rate_limit=1000.0 (msgs/sec)\n",
      "ServerApp.rate_limit_window=3.0 (secs)\n",
      "\n"
     ]
    },
    {
     "name": "stdout",
     "output_type": "stream",
     "text": [
      "\u001b[1m53030/63480\u001b[0m \u001b[32m━━━━━━━━━━━━━━━━\u001b[0m\u001b[37m━━━━\u001b[0m \u001b[1m34s\u001b[0m 3ms/step - loss: 478394485588361216.0000"
     ]
    },
    {
     "name": "stderr",
     "output_type": "stream",
     "text": [
      "IOPub message rate exceeded.\n",
      "The Jupyter server will temporarily stop sending output\n",
      "to the client in order to avoid crashing it.\n",
      "To change this limit, set the config variable\n",
      "`--ServerApp.iopub_msg_rate_limit`.\n",
      "\n",
      "Current values:\n",
      "ServerApp.iopub_msg_rate_limit=1000.0 (msgs/sec)\n",
      "ServerApp.rate_limit_window=3.0 (secs)\n",
      "\n"
     ]
    },
    {
     "name": "stdout",
     "output_type": "stream",
     "text": [
      "\u001b[1m50395/63480\u001b[0m \u001b[32m━━━━━━━━━━━━━━━\u001b[0m\u001b[37m━━━━━\u001b[0m \u001b[1m34s\u001b[0m 3ms/step - loss: 357580319727026176.0000"
     ]
    },
    {
     "name": "stderr",
     "output_type": "stream",
     "text": [
      "IOPub message rate exceeded.\n",
      "The Jupyter server will temporarily stop sending output\n",
      "to the client in order to avoid crashing it.\n",
      "To change this limit, set the config variable\n",
      "`--ServerApp.iopub_msg_rate_limit`.\n",
      "\n",
      "Current values:\n",
      "ServerApp.iopub_msg_rate_limit=1000.0 (msgs/sec)\n",
      "ServerApp.rate_limit_window=3.0 (secs)\n",
      "\n"
     ]
    },
    {
     "name": "stdout",
     "output_type": "stream",
     "text": [
      "\u001b[1m63480/63480\u001b[0m \u001b[32m━━━━━━━━━━━━━━━━━━━━\u001b[0m\u001b[37m\u001b[0m \u001b[1m210s\u001b[0m 3ms/step - loss: 251425083405369344.0000 - val_loss: 131090055505641472.0000\n",
      "Epoch 43/300\n",
      "\u001b[1m22279/63480\u001b[0m \u001b[32m━━━━━━━\u001b[0m\u001b[37m━━━━━━━━━━━━━\u001b[0m \u001b[1m1:59\u001b[0m 3ms/step - loss: 76882044902178816.0000"
     ]
    },
    {
     "name": "stderr",
     "output_type": "stream",
     "text": [
      "IOPub message rate exceeded.\n",
      "The Jupyter server will temporarily stop sending output\n",
      "to the client in order to avoid crashing it.\n",
      "To change this limit, set the config variable\n",
      "`--ServerApp.iopub_msg_rate_limit`.\n",
      "\n",
      "Current values:\n",
      "ServerApp.iopub_msg_rate_limit=1000.0 (msgs/sec)\n",
      "ServerApp.rate_limit_window=3.0 (secs)\n",
      "\n"
     ]
    },
    {
     "name": "stdout",
     "output_type": "stream",
     "text": [
      "\u001b[1m27858/63480\u001b[0m \u001b[32m━━━━━━━━\u001b[0m\u001b[37m━━━━━━━━━━━━\u001b[0m \u001b[1m2:00\u001b[0m 3ms/step - loss: 218687244947423232.0000"
     ]
    },
    {
     "name": "stderr",
     "output_type": "stream",
     "text": [
      "IOPub message rate exceeded.\n",
      "The Jupyter server will temporarily stop sending output\n",
      "to the client in order to avoid crashing it.\n",
      "To change this limit, set the config variable\n",
      "`--ServerApp.iopub_msg_rate_limit`.\n",
      "\n",
      "Current values:\n",
      "ServerApp.iopub_msg_rate_limit=1000.0 (msgs/sec)\n",
      "ServerApp.rate_limit_window=3.0 (secs)\n",
      "\n"
     ]
    },
    {
     "name": "stdout",
     "output_type": "stream",
     "text": [
      "\u001b[1m63480/63480\u001b[0m \u001b[32m━━━━━━━━━━━━━━━━━━━━\u001b[0m\u001b[37m\u001b[0m \u001b[1m193s\u001b[0m 3ms/step - loss: 203356307644743680.0000 - val_loss: 131088844324864000.0000\n",
      "Epoch 61/300\n",
      "\u001b[1m 3834/63480\u001b[0m \u001b[32m━\u001b[0m\u001b[37m━━━━━━━━━━━━━━━━━━━\u001b[0m \u001b[1m3:16\u001b[0m 3ms/step - loss: 11560097750712320.0000"
     ]
    },
    {
     "name": "stderr",
     "output_type": "stream",
     "text": [
      "IOPub message rate exceeded.\n",
      "The Jupyter server will temporarily stop sending output\n",
      "to the client in order to avoid crashing it.\n",
      "To change this limit, set the config variable\n",
      "`--ServerApp.iopub_msg_rate_limit`.\n",
      "\n",
      "Current values:\n",
      "ServerApp.iopub_msg_rate_limit=1000.0 (msgs/sec)\n",
      "ServerApp.rate_limit_window=3.0 (secs)\n",
      "\n"
     ]
    },
    {
     "name": "stdout",
     "output_type": "stream",
     "text": [
      "\u001b[1m53451/63480\u001b[0m \u001b[32m━━━━━━━━━━━━━━━━\u001b[0m\u001b[37m━━━━\u001b[0m \u001b[1m29s\u001b[0m 3ms/step - loss: 39338571831705600.0000"
     ]
    },
    {
     "name": "stderr",
     "output_type": "stream",
     "text": [
      "IOPub message rate exceeded.\n",
      "The Jupyter server will temporarily stop sending output\n",
      "to the client in order to avoid crashing it.\n",
      "To change this limit, set the config variable\n",
      "`--ServerApp.iopub_msg_rate_limit`.\n",
      "\n",
      "Current values:\n",
      "ServerApp.iopub_msg_rate_limit=1000.0 (msgs/sec)\n",
      "ServerApp.rate_limit_window=3.0 (secs)\n",
      "\n"
     ]
    },
    {
     "name": "stdout",
     "output_type": "stream",
     "text": [
      "\u001b[1m32791/63480\u001b[0m \u001b[32m━━━━━━━━━━\u001b[0m\u001b[37m━━━━━━━━━━\u001b[0m \u001b[1m1:27\u001b[0m 3ms/step - loss: 96762099895631872.0000"
     ]
    },
    {
     "name": "stderr",
     "output_type": "stream",
     "text": [
      "IOPub message rate exceeded.\n",
      "The Jupyter server will temporarily stop sending output\n",
      "to the client in order to avoid crashing it.\n",
      "To change this limit, set the config variable\n",
      "`--ServerApp.iopub_msg_rate_limit`.\n",
      "\n",
      "Current values:\n",
      "ServerApp.iopub_msg_rate_limit=1000.0 (msgs/sec)\n",
      "ServerApp.rate_limit_window=3.0 (secs)\n",
      "\n"
     ]
    },
    {
     "name": "stdout",
     "output_type": "stream",
     "text": [
      "\u001b[1m63480/63480\u001b[0m \u001b[32m━━━━━━━━━━━━━━━━━━━━\u001b[0m\u001b[37m\u001b[0m \u001b[1m215s\u001b[0m 3ms/step - loss: 167866391582474240.0000 - val_loss: 131087744813236224.0000\n",
      "Epoch 85/300\n",
      "\u001b[1m60863/63480\u001b[0m \u001b[32m━━━━━━━━━━━━━━━━━━━\u001b[0m\u001b[37m━\u001b[0m \u001b[1m8s\u001b[0m 3ms/step - loss: 97854241359527936.0000"
     ]
    },
    {
     "name": "stderr",
     "output_type": "stream",
     "text": [
      "IOPub message rate exceeded.\n",
      "The Jupyter server will temporarily stop sending output\n",
      "to the client in order to avoid crashing it.\n",
      "To change this limit, set the config variable\n",
      "`--ServerApp.iopub_msg_rate_limit`.\n",
      "\n",
      "Current values:\n",
      "ServerApp.iopub_msg_rate_limit=1000.0 (msgs/sec)\n",
      "ServerApp.rate_limit_window=3.0 (secs)\n",
      "\n"
     ]
    },
    {
     "name": "stdout",
     "output_type": "stream",
     "text": [
      "\u001b[1m63480/63480\u001b[0m \u001b[32m━━━━━━━━━━━━━━━━━━━━\u001b[0m\u001b[37m\u001b[0m \u001b[1m217s\u001b[0m 3ms/step - loss: 133086614002860032.0000 - val_loss: 131087641734021120.0000\n",
      "Epoch 87/300\n",
      "\u001b[1m63480/63480\u001b[0m \u001b[32m━━━━━━━━━━━━━━━━━━━━\u001b[0m\u001b[37m\u001b[0m \u001b[1m205s\u001b[0m 3ms/step - loss: 134112217833406464.0000 - val_loss: 131087624554151936.0000\n",
      "Epoch 88/300\n",
      "\u001b[1m63480/63480\u001b[0m \u001b[32m━━━━━━━━━━━━━━━━━━━━\u001b[0m\u001b[37m\u001b[0m \u001b[1m213s\u001b[0m 3ms/step - loss: 238878143903956992.0000 - val_loss: 131087590194413568.0000\n",
      "Epoch 89/300\n",
      "\u001b[1m63480/63480\u001b[0m \u001b[32m━━━━━━━━━━━━━━━━━━━━\u001b[0m\u001b[37m\u001b[0m \u001b[1m205s\u001b[0m 3ms/step - loss: 323524321446199296.0000 - val_loss: 131087564424609792.0000\n",
      "Epoch 90/300\n",
      "\u001b[1m63480/63480\u001b[0m \u001b[32m━━━━━━━━━━━━━━━━━━━━\u001b[0m\u001b[37m\u001b[0m \u001b[1m187s\u001b[0m 3ms/step - loss: 203706811335835648.0000 - val_loss: 131087530064871424.0000\n",
      "Epoch 91/300\n",
      "\u001b[1m63480/63480\u001b[0m \u001b[32m━━━━━━━━━━━━━━━━━━━━\u001b[0m\u001b[37m\u001b[0m \u001b[1m206s\u001b[0m 3ms/step - loss: 229433562359660544.0000 - val_loss: 131087487115198464.0000\n",
      "Epoch 92/300\n",
      "\u001b[1m63480/63480\u001b[0m \u001b[32m━━━━━━━━━━━━━━━━━━━━\u001b[0m\u001b[37m\u001b[0m \u001b[1m194s\u001b[0m 3ms/step - loss: 270411106596421632.0000 - val_loss: 131087461345394688.0000\n",
      "Epoch 93/300\n",
      "\u001b[1m63480/63480\u001b[0m \u001b[32m━━━━━━━━━━━━━━━━━━━━\u001b[0m\u001b[37m\u001b[0m \u001b[1m193s\u001b[0m 3ms/step - loss: 97855392410763264.0000 - val_loss: 131087418395721728.0000\n",
      "Epoch 94/300\n",
      "\u001b[1m63480/63480\u001b[0m \u001b[32m━━━━━━━━━━━━━━━━━━━━\u001b[0m\u001b[37m\u001b[0m \u001b[1m211s\u001b[0m 3ms/step - loss: 170368570809647104.0000 - val_loss: 131087401215852544.0000\n",
      "Epoch 95/300\n",
      "\u001b[1m63480/63480\u001b[0m \u001b[32m━━━━━━━━━━━━━━━━━━━━\u001b[0m\u001b[37m\u001b[0m \u001b[1m208s\u001b[0m 3ms/step - loss: 200946040717705216.0000 - val_loss: 131087401215852544.0000\n",
      "Epoch 96/300\n",
      "\u001b[1m63480/63480\u001b[0m \u001b[32m━━━━━━━━━━━━━━━━━━━━\u001b[0m\u001b[37m\u001b[0m \u001b[1m189s\u001b[0m 3ms/step - loss: 173295161525141504.0000 - val_loss: 131087349676244992.0000\n",
      "Epoch 97/300\n",
      "\u001b[1m63480/63480\u001b[0m \u001b[32m━━━━━━━━━━━━━━━━━━━━\u001b[0m\u001b[37m\u001b[0m \u001b[1m202s\u001b[0m 3ms/step - loss: 215176160722550784.0000 - val_loss: 131087332496375808.0000\n",
      "Epoch 98/300\n",
      "\u001b[1m63480/63480\u001b[0m \u001b[32m━━━━━━━━━━━━━━━━━━━━\u001b[0m\u001b[37m\u001b[0m \u001b[1m195s\u001b[0m 3ms/step - loss: 146924869781553152.0000 - val_loss: 131087306726572032.0000\n",
      "Epoch 99/300\n",
      "\u001b[1m63480/63480\u001b[0m \u001b[32m━━━━━━━━━━━━━━━━━━━━\u001b[0m\u001b[37m\u001b[0m \u001b[1m192s\u001b[0m 3ms/step - loss: 252678698459725824.0000 - val_loss: 131087246597029888.0000\n",
      "Epoch 100/300\n",
      "\u001b[1m63480/63480\u001b[0m \u001b[32m━━━━━━━━━━━━━━━━━━━━\u001b[0m\u001b[37m\u001b[0m \u001b[1m201s\u001b[0m 3ms/step - loss: 271575850187489280.0000 - val_loss: 131087220827226112.0000\n",
      "Epoch 101/300\n",
      "\u001b[1m63480/63480\u001b[0m \u001b[32m━━━━━━━━━━━━━━━━━━━━\u001b[0m\u001b[37m\u001b[0m \u001b[1m209s\u001b[0m 3ms/step - loss: 173963836393521152.0000 - val_loss: 131087212237291520.0000\n",
      "Epoch 102/300\n",
      "\u001b[1m63480/63480\u001b[0m \u001b[32m━━━━━━━━━━━━━━━━━━━━\u001b[0m\u001b[37m\u001b[0m \u001b[1m192s\u001b[0m 3ms/step - loss: 79380891234729984.0000 - val_loss: 131087160697683968.0000\n",
      "Epoch 103/300\n",
      "\u001b[1m63480/63480\u001b[0m \u001b[32m━━━━━━━━━━━━━━━━━━━━\u001b[0m\u001b[37m\u001b[0m \u001b[1m208s\u001b[0m 3ms/step - loss: 330991104910426112.0000 - val_loss: 131087152107749376.0000\n",
      "Epoch 104/300\n",
      "\u001b[1m63480/63480\u001b[0m \u001b[32m━━━━━━━━━━━━━━━━━━━━\u001b[0m\u001b[37m\u001b[0m \u001b[1m193s\u001b[0m 3ms/step - loss: 241741340902162432.0000 - val_loss: 131087160697683968.0000\n",
      "Epoch 105/300\n",
      "\u001b[1m63480/63480\u001b[0m \u001b[32m━━━━━━━━━━━━━━━━━━━━\u001b[0m\u001b[37m\u001b[0m \u001b[1m190s\u001b[0m 3ms/step - loss: 125869754685587456.0000 - val_loss: 131087160697683968.0000\n",
      "Epoch 106/300\n",
      "\u001b[1m63480/63480\u001b[0m \u001b[32m━━━━━━━━━━━━━━━━━━━━\u001b[0m\u001b[37m\u001b[0m \u001b[1m208s\u001b[0m 3ms/step - loss: 185865671807074304.0000 - val_loss: 131087152107749376.0000\n",
      "Epoch 107/300\n",
      "\u001b[1m63480/63480\u001b[0m \u001b[32m━━━━━━━━━━━━━━━━━━━━\u001b[0m\u001b[37m\u001b[0m \u001b[1m188s\u001b[0m 3ms/step - loss: 217911762832326656.0000 - val_loss: 131087109158076416.0000\n",
      "Epoch 108/300\n",
      "\u001b[1m63480/63480\u001b[0m \u001b[32m━━━━━━━━━━━━━━━━━━━━\u001b[0m\u001b[37m\u001b[0m \u001b[1m191s\u001b[0m 3ms/step - loss: 166497259087724544.0000 - val_loss: 131087100568141824.0000\n",
      "Epoch 109/300\n",
      "\u001b[1m63480/63480\u001b[0m \u001b[32m━━━━━━━━━━━━━━━━━━━━\u001b[0m\u001b[37m\u001b[0m \u001b[1m210s\u001b[0m 3ms/step - loss: 310478341104730112.0000 - val_loss: 131087091978207232.0000\n",
      "Epoch 110/300\n",
      "\u001b[1m63480/63480\u001b[0m \u001b[32m━━━━━━━━━━━━━━━━━━━━\u001b[0m\u001b[37m\u001b[0m \u001b[1m189s\u001b[0m 3ms/step - loss: 162764588910116864.0000 - val_loss: 131087083388272640.0000\n",
      "Epoch 111/300\n",
      "\u001b[1m63480/63480\u001b[0m \u001b[32m━━━━━━━━━━━━━━━━━━━━\u001b[0m\u001b[37m\u001b[0m \u001b[1m191s\u001b[0m 3ms/step - loss: 186830630699401216.0000 - val_loss: 131087057618468864.0000\n",
      "Epoch 112/300\n",
      "\u001b[1m63480/63480\u001b[0m \u001b[32m━━━━━━━━━━━━━━━━━━━━\u001b[0m\u001b[37m\u001b[0m \u001b[1m211s\u001b[0m 3ms/step - loss: 231421668361240576.0000 - val_loss: 131087057618468864.0000\n",
      "Epoch 113/300\n",
      "\u001b[1m63480/63480\u001b[0m \u001b[32m━━━━━━━━━━━━━━━━━━━━\u001b[0m\u001b[37m\u001b[0m \u001b[1m199s\u001b[0m 3ms/step - loss: 143589784726536192.0000 - val_loss: 131087049028534272.0000\n",
      "Epoch 114/300\n",
      "\u001b[1m63480/63480\u001b[0m \u001b[32m━━━━━━━━━━━━━━━━━━━━\u001b[0m\u001b[37m\u001b[0m \u001b[1m202s\u001b[0m 3ms/step - loss: 65898224388407296.0000 - val_loss: 131087014668795904.0000\n",
      "Epoch 115/300\n",
      "\u001b[1m63480/63480\u001b[0m \u001b[32m━━━━━━━━━━━━━━━━━━━━\u001b[0m\u001b[37m\u001b[0m \u001b[1m212s\u001b[0m 3ms/step - loss: 363017439086116864.0000 - val_loss: 131087014668795904.0000\n",
      "Epoch 116/300\n",
      "\u001b[1m63480/63480\u001b[0m \u001b[32m━━━━━━━━━━━━━━━━━━━━\u001b[0m\u001b[37m\u001b[0m \u001b[1m207s\u001b[0m 3ms/step - loss: 300817997583351808.0000 - val_loss: 131087006078861312.0000\n",
      "Epoch 117/300\n",
      "\u001b[1m63480/63480\u001b[0m \u001b[32m━━━━━━━━━━━━━━━━━━━━\u001b[0m\u001b[37m\u001b[0m \u001b[1m196s\u001b[0m 3ms/step - loss: 153507285119795200.0000 - val_loss: 131086997488926720.0000\n",
      "Epoch 118/300\n",
      "\u001b[1m63480/63480\u001b[0m \u001b[32m━━━━━━━━━━━━━━━━━━━━\u001b[0m\u001b[37m\u001b[0m \u001b[1m208s\u001b[0m 3ms/step - loss: 112841186141536256.0000 - val_loss: 131086963129188352.0000\n",
      "Epoch 119/300\n",
      "\u001b[1m63480/63480\u001b[0m \u001b[32m━━━━━━━━━━━━━━━━━━━━\u001b[0m\u001b[37m\u001b[0m \u001b[1m209s\u001b[0m 3ms/step - loss: 385402465035485184.0000 - val_loss: 131086937359384576.0000\n",
      "Epoch 120/300\n",
      "\u001b[1m25707/63480\u001b[0m \u001b[32m━━━━━━━━\u001b[0m\u001b[37m━━━━━━━━━━━━\u001b[0m \u001b[1m2:12\u001b[0m 4ms/step - loss: 78910824244051968.0000"
     ]
    }
   ],
   "source": [
    "nb_epoch = 300\n",
    "batch_size = 64\n",
    "\n",
    "import torch\n",
    "device = torch.device('cuda' if torch.cuda.is_available() else 'cpu')\n",
    "\n",
    "\n",
    "checkpointer = ModelCheckpoint(filepath=\"model.keras\",\n",
    "                               verbose=0,\n",
    "                               save_best_only=True)\n",
    "\n",
    "tensorboard = TensorBoard(log_dir='./logs',\n",
    "                          histogram_freq=0,\n",
    "                          write_graph=True,\n",
    "                          write_images=True)\n",
    "\n",
    "history = autoencoder.fit(np.asarray(X_train).astype('float32'), np.asarray(X_train).astype('float32'),\n",
    "                    epochs=nb_epoch,\n",
    "                    batch_size=batch_size,\n",
    "                    shuffle=True,\n",
    "                    validation_split=0.2,\n",
    "                    verbose=1,\n",
    "                    callbacks=[checkpointer, tensorboard]).history"
   ]
  },
  {
   "cell_type": "markdown",
   "metadata": {
    "collapsed": true,
    "deletable": true,
    "editable": true,
    "jupyter": {
     "outputs_hidden": true
    }
   },
   "source": [
    "# Prediction"
   ]
  },
  {
   "cell_type": "code",
   "execution_count": 76,
   "metadata": {
    "deletable": true,
    "editable": true
   },
   "outputs": [],
   "source": [
    "autoencoder = models.load_model('model.keras')"
   ]
  },
  {
   "cell_type": "code",
   "execution_count": 77,
   "metadata": {
    "collapsed": false,
    "deletable": true,
    "editable": true,
    "jupyter": {
     "outputs_hidden": false
    }
   },
   "outputs": [
    {
     "name": "stdout",
     "output_type": "stream",
     "text": [
      "\u001b[1m158699/158699\u001b[0m \u001b[32m━━━━━━━━━━━━━━━━━━━━\u001b[0m\u001b[37m\u001b[0m \u001b[1m164s\u001b[0m 1ms/step\n"
     ]
    },
    {
     "name": "stderr",
     "output_type": "stream",
     "text": [
      "/root/.conda/envs/veridion/lib/python3.10/site-packages/pandas/core/nanops.py:1016: RuntimeWarning: overflow encountered in square\n",
      "  sqr = _ensure_numeric((avg - values) ** 2)\n"
     ]
    },
    {
     "data": {
      "text/html": [
       "<div>\n",
       "<style scoped>\n",
       "    .dataframe tbody tr th:only-of-type {\n",
       "        vertical-align: middle;\n",
       "    }\n",
       "\n",
       "    .dataframe tbody tr th {\n",
       "        vertical-align: top;\n",
       "    }\n",
       "\n",
       "    .dataframe thead th {\n",
       "        text-align: right;\n",
       "    }\n",
       "</style>\n",
       "<table border=\"1\" class=\"dataframe\">\n",
       "  <thead>\n",
       "    <tr style=\"text-align: right;\">\n",
       "      <th></th>\n",
       "      <th>reconstruction_error</th>\n",
       "      <th>true_class</th>\n",
       "    </tr>\n",
       "  </thead>\n",
       "  <tbody>\n",
       "    <tr>\n",
       "      <th>count</th>\n",
       "      <td>5.078345e+06</td>\n",
       "      <td>5.078345e+06</td>\n",
       "    </tr>\n",
       "    <tr>\n",
       "      <th>mean</th>\n",
       "      <td>1.832258e+17</td>\n",
       "      <td>1.019427e-03</td>\n",
       "    </tr>\n",
       "    <tr>\n",
       "      <th>std</th>\n",
       "      <td>inf</td>\n",
       "      <td>3.191219e-02</td>\n",
       "    </tr>\n",
       "    <tr>\n",
       "      <th>min</th>\n",
       "      <td>5.030687e+09</td>\n",
       "      <td>0.000000e+00</td>\n",
       "    </tr>\n",
       "    <tr>\n",
       "      <th>25%</th>\n",
       "      <td>2.796598e+12</td>\n",
       "      <td>0.000000e+00</td>\n",
       "    </tr>\n",
       "    <tr>\n",
       "      <th>50%</th>\n",
       "      <td>2.808128e+12</td>\n",
       "      <td>0.000000e+00</td>\n",
       "    </tr>\n",
       "    <tr>\n",
       "      <th>75%</th>\n",
       "      <td>2.812582e+12</td>\n",
       "      <td>0.000000e+00</td>\n",
       "    </tr>\n",
       "    <tr>\n",
       "      <th>max</th>\n",
       "      <td>2.189482e+23</td>\n",
       "      <td>1.000000e+00</td>\n",
       "    </tr>\n",
       "  </tbody>\n",
       "</table>\n",
       "</div>"
      ],
      "text/plain": [
       "       reconstruction_error    true_class\n",
       "count          5.078345e+06  5.078345e+06\n",
       "mean           1.832258e+17  1.019427e-03\n",
       "std                     inf  3.191219e-02\n",
       "min            5.030687e+09  0.000000e+00\n",
       "25%            2.796598e+12  0.000000e+00\n",
       "50%            2.808128e+12  0.000000e+00\n",
       "75%            2.812582e+12  0.000000e+00\n",
       "max            2.189482e+23  1.000000e+00"
      ]
     },
     "execution_count": 77,
     "metadata": {},
     "output_type": "execute_result"
    }
   ],
   "source": [
    "predictions = autoencoder.predict(np.asarray(X_train).astype('float32'))\n",
    "mse = np.mean(np.power(np.asarray(X_train).astype('float32') - predictions, 2), axis=1)\n",
    "error_df = pd.DataFrame({'reconstruction_error': mse, 'true_class': labels})\n",
    "error_df.describe()"
   ]
  },
  {
   "cell_type": "code",
   "execution_count": 78,
   "metadata": {
    "deletable": true,
    "editable": true
   },
   "outputs": [],
   "source": [
    "thresholds = [0.05, 0.078, 0.125, 0.178, 0.195, 0.225]"
   ]
  },
  {
   "cell_type": "code",
   "execution_count": 79,
   "metadata": {
    "collapsed": false,
    "deletable": true,
    "editable": true,
    "jupyter": {
     "outputs_hidden": false
    },
    "scrolled": true
   },
   "outputs": [
    {
     "data": {
      "image/png": "[encoded data removed]",
      "text/plain": [
       "<Figure size 1400x800 with 1 Axes>"
      ]
     },
     "metadata": {},
     "output_type": "display_data"
    }
   ],
   "source": [
    "groups = error_df.groupby('true_class')\n",
    "fig, ax = plt.subplots()\n",
    "\n",
    "for name, group in groups:\n",
    "    ax.plot(group.index, group.reconstruction_error, marker='o', ms=3.5, linestyle='',\n",
    "            label= \"Minor\" if name == 1 else \"Normal\")\n",
    "for threshold in thresholds:\n",
    "    ax.hlines(threshold, ax.get_xlim()[0], ax.get_xlim()[1], colors=\"r\", zorder=100, label='Threshold')\n",
    "ax.legend()\n",
    "plt.title(\"Reconstruction error for different classes\")\n",
    "plt.ylabel(\"Reconstruction error\")\n",
    "plt.xlabel(\"Data point index\")\n",
    "plt.show();"
   ]
  },
  {
   "cell_type": "markdown",
   "metadata": {},
   "source": [
    "# Evaluation"
   ]
  },
  {
   "cell_type": "code",
   "execution_count": 82,
   "metadata": {},
   "outputs": [],
   "source": [
    "model = models.load_model('model.keras')"
   ]
  },
  {
   "cell_type": "markdown",
   "metadata": {},
   "source": [
    "## Small_AML_ChallangeHB2.csv"
   ]
  },
  {
   "cell_type": "code",
   "execution_count": 83,
   "metadata": {},
   "outputs": [],
   "source": [
    "testing_small = pd.read_csv('/root/veridion/veridion/git/wetransfer_aml-challenge-hbn2-bt_2024-04-21_0933/Small_AML_ChallangeHB2.csv')\n",
    "\n",
    "labels = testing_small['Is Laundering']\n",
    "del testing_small['Is Laundering']\n",
    "\n",
    "def df_label_encoder(df, columns):\n",
    "        le = preprocessing.LabelEncoder()\n",
    "        for i in columns:\n",
    "            df[i] = le.fit_transform(df[i].astype(str))\n",
    "        return df\n",
    "\n",
    "df = df_label_encoder(testing_small,['Payment Format', 'Payment Currency', 'Receiving Currency', 'Account', 'Account.1'])\n",
    "df['Timestamp'] = pd.to_datetime(df['Timestamp'], dayfirst=True, format='mixed')\n",
    "df['Timestamp'] = df['Timestamp'].apply(lambda x: x.value)\n",
    "df['Timestamp'] = (df['Timestamp']-df['Timestamp'].min())/(df['Timestamp'].max()-df['Timestamp'].min())"
   ]
  },
  {
   "cell_type": "code",
   "execution_count": 84,
   "metadata": {},
   "outputs": [
    {
     "name": "stdout",
     "output_type": "stream",
     "text": [
      "\u001b[1m3129/3129\u001b[0m \u001b[32m━━━━━━━━━━━━━━━━━━━━\u001b[0m\u001b[37m\u001b[0m \u001b[1m4s\u001b[0m 1ms/step\n"
     ]
    }
   ],
   "source": [
    "predictions = model.predict(np.asarray(testing_small.values).astype('float32'))"
   ]
  },
  {
   "cell_type": "markdown",
   "metadata": {},
   "source": [
    "#### Metrics"
   ]
  },
  {
   "cell_type": "code",
   "execution_count": 87,
   "metadata": {},
   "outputs": [
    {
     "data": {
      "image/png": "[encoded data removed]",
      "text/plain": [
       "<Figure size 1400x800 with 2 Axes>"
      ]
     },
     "metadata": {},
     "output_type": "display_data"
    },
    {
     "name": "stdout",
     "output_type": "stream",
     "text": [
      "acc = 0.974 prec = 0.006 recal = (0.14, 3) f1 = 0.011\n"
     ]
    },
    {
     "data": {
      "image/png": "[encoded data removed]",
      "text/plain": [
       "<Figure size 1400x800 with 1 Axes>"
      ]
     },
     "metadata": {},
     "output_type": "display_data"
    },
    {
     "name": "stdout",
     "output_type": "stream",
     "text": [
      "Auc for our sample data is 0.405\n"
     ]
    }
   ],
   "source": [
    "re = np.linalg.norm(np.asarray(testing_small.values).astype('float32') - predictions, axis = 1)\n",
    "\n",
    "threshold = 5300000\n",
    "\n",
    "result_list = [1 if value > threshold else 0 for value in re]\n",
    "\n",
    "\n",
    "# Confusion Maxtrix\n",
    "from sklearn.metrics import confusion_matrix\n",
    "from sklearn import metrics\n",
    "\n",
    "conf_matrix = confusion_matrix(labels, result_list)\n",
    "\n",
    "cm_display = metrics.ConfusionMatrixDisplay(confusion_matrix = conf_matrix, display_labels = [0, 1])\n",
    "\n",
    "cm_display.plot()\n",
    "plt.show()\n",
    "\n",
    "\n",
    "# Accuracy + Precision + Recall + F1\n",
    "acc = np.round(metrics.accuracy_score(labels, result_list), 3)\n",
    "prec = np.round(metrics.precision_score(labels, result_list), 3)\n",
    "rec = (metrics.recall_score(labels, result_list), 3)\n",
    "f1 = np.round(metrics.f1_score(labels, result_list), 3)\n",
    "\n",
    "print(\"acc = \" + str(acc) + \" prec = \"  + str(prec) + \" recal = \" +  str(rec) + \" f1 = \"  + str(f1))\n",
    "\n",
    "# ROC curve\n",
    "from sklearn.metrics import roc_curve\n",
    "import matplotlib.pyplot as plt\n",
    "\n",
    "\n",
    "fpr, tpr, thresholds = roc_curve(labels, re)\n",
    "\n",
    "plt.plot(fpr, tpr, marker='.')\n",
    "plt.xlabel('False Positive Rate')\n",
    "plt.ylabel('True Positive Rate')\n",
    "plt.title('ROC Curve')\n",
    "plt.show()\n",
    "\n",
    "# AUC\n",
    "from sklearn .metrics import roc_auc_score\n",
    "\n",
    "auc = np.round(roc_auc_score(labels, re), 3)\n",
    "print(\"Auc for our sample data is {}\".format(auc))"
   ]
  },
  {
   "cell_type": "markdown",
   "metadata": {},
   "source": [
    "## AML_ChallangeHB2.csv"
   ]
  },
  {
   "cell_type": "code",
   "execution_count": 88,
   "metadata": {},
   "outputs": [],
   "source": [
    "testing_big = pd.read_csv('/root/veridion/veridion/git/wetransfer_aml-challenge-hbn2-bt_2024-04-21_0933/AML_ChallangeHB2.csv')\n",
    "\n",
    "labels = testing_big['Is Laundering']\n",
    "del testing_big['Is Laundering']\n",
    "\n",
    "\n",
    "def df_label_encoder(df, columns):\n",
    "        le = preprocessing.LabelEncoder()\n",
    "        for i in columns:\n",
    "            df[i] = le.fit_transform(df[i].astype(str))\n",
    "        return df\n",
    "\n",
    "df = df_label_encoder(testing,['Payment Format', 'Payment Currency', 'Receiving Currency', 'Account', 'Account.1'])\n",
    "df['Timestamp'] = pd.to_datetime(df['Timestamp'], dayfirst=True, format='mixed')\n",
    "df['Timestamp'] = df['Timestamp'].apply(lambda x: x.value)\n",
    "df['Timestamp'] = (df['Timestamp']-df['Timestamp'].min())/(df['Timestamp'].max()-df['Timestamp'].min())"
   ]
  },
  {
   "cell_type": "code",
   "execution_count": 89,
   "metadata": {},
   "outputs": [
    {
     "name": "stdout",
     "output_type": "stream",
     "text": [
      "\u001b[1m379798/379798\u001b[0m \u001b[32m━━━━━━━━━━━━━━━━━━━━\u001b[0m\u001b[37m\u001b[0m \u001b[1m444s\u001b[0m 1ms/step\n"
     ]
    }
   ],
   "source": [
    "predictions = model.predict(np.asarray(testing.values).astype('float32'))"
   ]
  },
  {
   "cell_type": "markdown",
   "metadata": {},
   "source": [
    "### Metrics"
   ]
  },
  {
   "cell_type": "code",
   "execution_count": 90,
   "metadata": {},
   "outputs": [
    {
     "data": {
      "image/png": "[encoded data removed]",
      "text/plain": [
       "<Figure size 1400x800 with 2 Axes>"
      ]
     },
     "metadata": {},
     "output_type": "display_data"
    },
    {
     "name": "stdout",
     "output_type": "stream",
     "text": [
      "acc = 0.763 prec = 0.005 recal = (0.23087844722468137, 3) f1 = 0.009\n"
     ]
    },
    {
     "data": {
      "image/png": "[encoded data removed]",
      "text/plain": [
       "<Figure size 1400x800 with 1 Axes>"
      ]
     },
     "metadata": {},
     "output_type": "display_data"
    },
    {
     "name": "stdout",
     "output_type": "stream",
     "text": [
      "Auc for our sample data is 0.444\n"
     ]
    }
   ],
   "source": [
    "re = np.linalg.norm(np.asarray(testing.values).astype('float32') - predictions, axis = 1)\n",
    "\n",
    "threshold = 5400000\n",
    "\n",
    "result_list = [1 if value > threshold else 0 for value in re]\n",
    "\n",
    "\n",
    "# Confusion Matrix\n",
    "from sklearn.metrics import confusion_matrix\n",
    "from sklearn import metrics\n",
    "\n",
    "conf_matrix = confusion_matrix(labels, result_list)\n",
    "\n",
    "cm_display = metrics.ConfusionMatrixDisplay(confusion_matrix = conf_matrix, display_labels = [0, 1])\n",
    "\n",
    "cm_display.plot()\n",
    "plt.show()\n",
    "\n",
    "\n",
    "# Accuracy + Precision + Recall + F1\n",
    "acc = np.round(metrics.accuracy_score(labels, result_list), 3)\n",
    "prec = np.round(metrics.precision_score(labels, result_list), 3)\n",
    "rec = (metrics.recall_score(labels, result_list), 3)\n",
    "f1 = np.round(metrics.f1_score(labels, result_list), 3)\n",
    "\n",
    "print(\"acc = \" + str(acc) + \" prec = \"  + str(prec) + \" recal = \" +  str(rec) + \" f1 = \"  + str(f1))\n",
    "\n",
    "\n",
    "# ROC curve\n",
    "from sklearn.metrics import roc_curve\n",
    "import matplotlib.pyplot as plt\n",
    "\n",
    "fpr, tpr, thresholds = roc_curve(labels, re)\n",
    "\n",
    "plt.plot(fpr, tpr, marker='.')\n",
    "plt.xlabel('False Positive Rate')\n",
    "plt.ylabel('True Positive Rate')\n",
    "plt.title('ROC Curve')\n",
    "plt.show()\n",
    "\n",
    "# AUC\n",
    "from sklearn .metrics import roc_auc_score\n",
    "\n",
    "auc = np.round(roc_auc_score(labels, re), 3)\n",
    "print(\"Auc for our sample data is {}\".format(auc))"
   ]
  }
 ],
 "metadata": {
  "kernelspec": {
   "display_name": "Python 3 (ipykernel)",
   "language": "python",
   "name": "python3"
  },
  "language_info": {
   "codemirror_mode": {
    "name": "ipython",
    "version": 3
   },
   "file_extension": ".py",
   "mimetype": "text/x-python",
   "name": "python",
   "nbconvert_exporter": "python",
   "pygments_lexer": "ipython3",
   "version": "3.10.14"
  },
  "widgets": {
   "state": {},
   "version": "1.1.0"
  }
 },
 "nbformat": 4,
 "nbformat_minor": 4
}
